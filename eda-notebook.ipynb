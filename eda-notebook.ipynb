{
 "cells": [
  {
   "cell_type": "markdown",
   "id": "1db107cf",
   "metadata": {},
   "source": [
    "# Set-up"
   ]
  },
  {
   "cell_type": "code",
   "execution_count": null,
   "id": "1c207a95",
   "metadata": {},
   "outputs": [],
   "source": [
    "# API keys\n",
    "publickey='ZuDTh48Wylj12kp07bEhi0XtvJoTTqAwTIPkHFJALtRb6IGLAYyhNm7NfFnOoNYx'\n",
    "secret='fvCNpe2uBmR60D1Zph4AIFymorhgky5gzWkX0voNg1wktbApRXo6GX7GE8RC6ZOf'"
   ]
  },
  {
   "cell_type": "code",
   "execution_count": 2,
   "id": "9f6d1917",
   "metadata": {},
   "outputs": [],
   "source": [
    "# Import dependencies\n",
    "\n",
    "from binance import Client, ThreadedWebsocketManager, ThreadedDepthCacheManager\n",
    "import pandas as pd"
   ]
  },
  {
   "cell_type": "code",
   "execution_count": null,
   "id": "e0acc723",
   "metadata": {},
   "outputs": [],
   "source": []
  },
  {
   "cell_type": "code",
   "execution_count": null,
   "id": "ecaf3987",
   "metadata": {},
   "outputs": [],
   "source": []
  }
 ],
 "metadata": {
  "kernelspec": {
   "display_name": "Python 3 (ipykernel)",
   "language": "python",
   "name": "python3"
  },
  "language_info": {
   "codemirror_mode": {
    "name": "ipython",
    "version": 3
   },
   "file_extension": ".py",
   "mimetype": "text/x-python",
   "name": "python",
   "nbconvert_exporter": "python",
   "pygments_lexer": "ipython3",
   "version": "3.9.6"
  }
 },
 "nbformat": 4,
 "nbformat_minor": 5
}
