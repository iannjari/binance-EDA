{
 "cells": [
  {
   "cell_type": "markdown",
   "id": "a8db98d3",
   "metadata": {},
   "source": [
    "# Set-up"
   ]
  },
  {
   "cell_type": "code",
   "execution_count": 3,
   "id": "a4062c67",
   "metadata": {},
   "outputs": [],
   "source": [
    "# API keys\n",
    "publickey='ZuDTh48Wylj12kp07bEhi0XtvJoTTqAwTIPkHFJALtRb6IGLAYyhNm7NfFnOoNYx'\n",
    "secret='fvCNpe2uBmR60D1Zph4AIFymorhgky5gzWkX0voNg1wktbApRXo6GX7GE8RC6ZOf'"
   ]
  },
  {
   "cell_type": "code",
   "execution_count": 2,
   "id": "abb2f897",
   "metadata": {},
   "outputs": [],
   "source": [
    "# Import dependencies\n",
    "\n",
    "from binance import Client, ThreadedWebsocketManager, ThreadedDepthCacheManager\n",
    "import pandas as pd"
   ]
  },
  {
   "cell_type": "markdown",
   "id": "63e06f15",
   "metadata": {},
   "source": [
    "# Authentication"
   ]
  },
  {
   "cell_type": "code",
   "execution_count": 4,
   "id": "1d7ef904",
   "metadata": {},
   "outputs": [],
   "source": [
    "client= Client(publickey,secret)"
   ]
  },
  {
   "cell_type": "code",
   "execution_count": null,
   "id": "cd8f90cd",
   "metadata": {},
   "outputs": [],
   "source": []
  }
 ],
 "metadata": {
  "kernelspec": {
   "display_name": "Python 3 (ipykernel)",
   "language": "python",
   "name": "python3"
  },
  "language_info": {
   "codemirror_mode": {
    "name": "ipython",
    "version": 3
   },
   "file_extension": ".py",
   "mimetype": "text/x-python",
   "name": "python",
   "nbconvert_exporter": "python",
   "pygments_lexer": "ipython3",
   "version": "3.9.6"
  }
 },
 "nbformat": 4,
 "nbformat_minor": 5
}
